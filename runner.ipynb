{
 "cells": [
  {
   "cell_type": "code",
   "execution_count": 1,
   "metadata": {},
   "outputs": [],
   "source": [
    "import json\n",
    "\n",
    "from flask import Flask, current_app, render_template, request, redirect, url_for\n",
    "from flask_sqlalchemy import SQLAlchemy\n",
    "\n",
    "from app import app, db"
   ]
  },
  {
   "cell_type": "markdown",
   "metadata": {},
   "source": [
    "<img src=\"static/img/Image_20240323152952.jpg\" />"
   ]
  },
  {
   "cell_type": "markdown",
   "metadata": {},
   "source": [
    "```python\n",
    "class Issue(db.Model):\n",
    "    # ...\n",
    "    # users 属性代表这个关系的面向对象视角\n",
    "    # 第一个参数表明这个关系的另一端是哪个模型\n",
    "    # backref 参数向User 模型中添加一个role 属性，从而定义反向关系\n",
    "    # 这一属性可替代role_id 访问Role 模型，此时获取的是模型对象，而不是外键的值\n",
    "    # 若User中由两个或以上列定义为Role的外键，则需要提供额外参数以确定所用外键\n",
    "    users = db.relationship('User', backref='role')\n",
    "    \n",
    "class Improvement(db.Model):\n",
    "    # ...\n",
    "    role_id = db.Column(db.Integer, db.ForeignKey('roles.id'))\n",
    "```"
   ]
  },
  {
   "cell_type": "code",
   "execution_count": 6,
   "metadata": {},
   "outputs": [
    {
     "name": "stdout",
     "output_type": "stream",
     "text": [
      "hello\n",
      "ID of administrator role: 1\n",
      "ID of moderator role: 2\n",
      "ID of user role: 3\n",
      "Comment of John: Good\n",
      "Role of Susan: <Role 'User'>\n",
      "If David is registed: True\n",
      "Replace name of role Admin with Administrator.\n",
      "New name of administrator role: Administrator\n",
      "Delete Moderator role.\n"
     ]
    }
   ],
   "source": [
    "# 调用 hello.py 应用中的app实例\n",
    "with app.app_context() as app_ctx:\n",
    "\n",
    "    # 手动创建应用上下文，确保正常使用 Flask 应用的全局变量和扩展\n",
    "    app_ctx.push()\n",
    "    print(current_app.name)\n",
    "    # 重置数据库\n",
    "    db.drop_all()\n",
    "    db.create_all()\n",
    "    # 创建 SQLAlchemy 的会话\n",
    "    session = db.session()\n",
    "\n",
    "    # 创建Role实例\n",
    "    admin_role = Role(name='Admin')\n",
    "    mod_role = Role(name='Moderator')\n",
    "    user_role = Role(name='User')\n",
    "    # 将Role实例写入会话\n",
    "    session.add_all([admin_role, \n",
    "                     mod_role, \n",
    "                     user_role])\n",
    "    # 提交会话\n",
    "    session.commit()\n",
    "\n",
    "    # 创建User实例\n",
    "    user_john = User(username='john', role=admin_role, comment='Good', regist=True)\n",
    "    user_susan = User(username='susan', role=user_role, comment='Ok', regist=True)\n",
    "    user_david = User(username='david', role=user_role, comment='Bad', regist=True)\n",
    "    # 将User实例写入会话\n",
    "    session.add_all([user_john, \n",
    "                     user_susan, \n",
    "                     user_david])\n",
    "    # 提交会话\n",
    "    session.commit()\n",
    "\n",
    "    # 验证数据\n",
    "    print(\"ID of administrator role: %s\" % admin_role.id)\n",
    "    print(\"ID of moderator role: %s\" % mod_role.id)\n",
    "    print(\"ID of user role: %s\" % user_role.id)\n",
    "    print(\"Comment of John: %s\" % user_john.comment)\n",
    "    print(\"Role of Susan: %s\" % user_susan.role)\n",
    "    print(\"If David is registed: %s\" % user_david.regist)\n",
    "\n",
    "    # 修改行\n",
    "    print(\"Replace name of role {0} with {1}.\".format(getattr(admin_role, 'name'), \n",
    "                                                              'Administrator'))\n",
    "    admin_role.name = 'Administrator'\n",
    "    session.add(admin_role)\n",
    "    print(\"New name of administrator role: %s\" % admin_role.name)\n",
    "    # 删除行\n",
    "    print(\"Delete {0} role.\".format(getattr(mod_role, 'name')))\n",
    "    session.delete(mod_role)\n",
    "    # 提交会话\n",
    "    session.commit()\n",
    "\n",
    "    # 销毁当前的应用上下文\n",
    "    app_ctx.pop()"
   ]
  },
  {
   "cell_type": "code",
   "execution_count": 14,
   "metadata": {},
   "outputs": [
    {
     "name": "stdout",
     "output_type": "stream",
     "text": [
      "All roles:\n",
      "[<Role 'Administrator'>, <Role 'User'>]\n",
      "All users:\n",
      "[<User 'john'>, <User 'susan'>, <User 'david'>]\n",
      "'User' users (filter):\n",
      "[<User 'susan'>, <User 'david'>]\n",
      "'User' users (filter_by):\n",
      "[<User 'susan'>, <User 'david'>]\n",
      "Translated to SQL query:\n",
      "SELECT users.id, users.username, users.regist, users.comment, users.role_id \n",
      "FROM users \n",
      "WHERE 3 = users.role_id\n"
     ]
    }
   ],
   "source": [
    "# 调用 hello.py 应用中的app实例\n",
    "with app.app_context() as app_ctx:\n",
    "\n",
    "    # 手动创建应用上下文，确保正常使用 Flask 应用的全局变量和扩展\n",
    "    app_ctx.push()\n",
    "\n",
    "    # 直接查询\n",
    "    print(\"All roles:\")\n",
    "    print(Role.query.all())\n",
    "    print(\"All users:\")\n",
    "    print(User.query.all())\n",
    "\n",
    "    # 使用过滤器查询\n",
    "    print(\"'User' users (filter):\")\n",
    "    print(User.query.filter(User.role.has(name='User')).all())\n",
    "\n",
    "    # 使用Role类实例进行筛选\n",
    "    print(\"'User' users (filter_by):\")\n",
    "    role_of_user = Role.query.filter_by(name='User').first()\n",
    "    print(User.query.filter_by(role=role_of_user).all())\n",
    "    # 将query对象转换成SQL查询语句\n",
    "    print(\"Translated to SQL query:\")\n",
    "    query = User.query.filter_by(role=role_of_user).statement.compile(compile_kwargs={\"literal_binds\": True})\n",
    "    print(str(query))\n",
    "    \n",
    "\n",
    "    # 手动移除当前的应用上下文\n",
    "    app_ctx.pop()"
   ]
  },
  {
   "cell_type": "markdown",
   "metadata": {},
   "source": [
    "如果退出了 shell 会话，这些创建的对象就不会以 Python 对象的形式存在，而\n",
    "是作为各自数据库表中的行。如果打开了一个新的 shell 会话，就要从数据库中读取行，\n",
    "再重新创建Python 对象。下面这个例子发起了一个查询，加载名为\"User\" 的用户角色：\n",
    "\n",
    "```shell\n",
    ">>> user_role = Role.query.filter_by(name='User').first()\n",
    "```\n",
    "\n",
    "filter_by() 等过滤器在query 对象上调用，返回一个更精确的query 对象。多个过滤器可\n",
    "以一起调用，直到获得所需结果。\n",
    "http://docs.sqlalchemy.org\n",
    "\n",
    "常用的查询过滤器\n",
    "* filter() 把过滤器添加到原查询上，返回一个新查询\n",
    "* filter_by() 把等值过滤器添加到原查询上，返回一个新查询\n",
    "* limit() 使用指定的值限制原查询返回的结果数量，返回一个新查询\n",
    "* offset() 偏移原查询返回的结果，返回一个新查询\n",
    "* order_by() 根据指定条件对原查询结果进行排序，返回一个新查询\n",
    "* group_by() 根据指定条件对原查询结果进行分组，返回一个新查询\n",
    "\n",
    "常用的查询执行函数\n",
    "* all() 以列表形式返回查询的所有结果\n",
    "* first() 返回查询的第一个结果，如果没有结果，则返回None\n",
    "* first_or_404() 返回查询的第一个结果，如果没有结果，则终止请求，返回404 错误响应\n",
    "* get() 返回指定主键对应的行，如果没有对应的行，则返回None\n",
    "* get_or_404() 返回指定主键对应的行，如果没找到指定的主键，则终止请求，返回404 错误响应\n",
    "* count() 返回查询结果的数量\n",
    "* paginate() 返回一个Paginate 对象，它包含指定范围内的结果"
   ]
  },
  {
   "cell_type": "code",
   "execution_count": 9,
   "metadata": {},
   "outputs": [
    {
     "name": "stdout",
     "output_type": "stream",
     "text": [
      "<Role 'User'>\n",
      "Type of <Role 'User'>: <class 'hello.Role'>\n",
      "SELECT users.id AS users_id, users.username AS users_username, users.regist AS users_regist, users.comment AS users_comment, users.role_id AS users_role_id \n",
      "FROM users \n",
      "WHERE ? = users.role_id\n",
      "Type of 'role_of_user.users': <class 'sqlalchemy.orm.dynamic.AppenderQuery'>\n",
      "Number of 'role_of_user.users': 2\n",
      "[<User 'david'>, <User 'susan'>]\n",
      "Type of [<User 'david'>, <User 'susan'>]: <class 'list'>\n",
      "Term 0: <User 'david'>\n",
      "Role of <User 'david'>: <Role 'User'>\n"
     ]
    }
   ],
   "source": [
    "# 查询行\n",
    "with app.app_context() as app_ctx:\n",
    "\n",
    "    app_ctx.push()\n",
    "    \n",
    "    # \n",
    "    role_of_user = Role.query.filter_by(name='User').first()\n",
    "    print(role_of_user)\n",
    "    print(\"Type of {0}: {1}\".format(role_of_user, type(role_of_user)))\n",
    "    print(role_of_user.users)\n",
    "    print(\"Type of 'role_of_user.users': {0}\".format(type(role_of_user.users)))\n",
    "    print(\"Number of 'role_of_user.users': {0}\".format(role_of_user.users.count()))\n",
    "    users = role_of_user.users.order_by(User.username).all()\n",
    "    print(users)\n",
    "    print(\"Type of {0}: {1}\".format(users, type(users)))\n",
    "    print(\"Term {0}: {1}\".format(0, users[0]))\n",
    "    print(\"Role of {0}: {1}\".format(users[0], users[0].role))\n",
    "\n",
    "    app_ctx.pop()"
   ]
  },
  {
   "cell_type": "code",
   "execution_count": 21,
   "metadata": {},
   "outputs": [
    {
     "name": "stdout",
     "output_type": "stream",
     "text": [
      "[<User 'susan'>, <User 'david'>]\n"
     ]
    }
   ],
   "source": [
    "# 不同表述方式查询角色为 user_role 的用户\n",
    "with app.app_context() as app_ctx:\n",
    "\n",
    "    app_ctx.push()\n",
    "    \n",
    "    #result = User.role.has(name='User')\n",
    "    '''\n",
    "    EXISTS (SELECT 1 \n",
    "    FROM roles, users \n",
    "    WHERE roles.id = users.role_id AND roles.name = :name_1)\n",
    "    '''\n",
    "    #result = User.query.filter(User.role.has(name='User'))\n",
    "    '''\n",
    "    SELECT users.id AS users_id, users.username AS users_username, users.regist AS users_regist, users.comment AS users_comment, users.role_id AS users_role_id \n",
    "    FROM users \n",
    "    WHERE EXISTS (SELECT 1 \n",
    "    FROM roles \n",
    "    WHERE roles.id = users.role_id AND roles.name = ?)\n",
    "    '''\n",
    "    #result = User.query.filter(User.role.has(name='User')).all()\n",
    "    '''\n",
    "    [<User 'susan'>, <User 'david'>]\n",
    "    '''\n",
    "\n",
    "\n",
    "\n",
    "    print(result)\n",
    "\n",
    "    app_ctx.pop()"
   ]
  }
 ],
 "metadata": {
  "kernelspec": {
   "display_name": "Python 3",
   "language": "python",
   "name": "python3"
  },
  "language_info": {
   "codemirror_mode": {
    "name": "ipython",
    "version": 3
   },
   "file_extension": ".py",
   "mimetype": "text/x-python",
   "name": "python",
   "nbconvert_exporter": "python",
   "pygments_lexer": "ipython3",
   "version": "3.10.11"
  }
 },
 "nbformat": 4,
 "nbformat_minor": 2
}
